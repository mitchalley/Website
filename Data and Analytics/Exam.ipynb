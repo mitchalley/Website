{
 "cells": [
  {
   "cell_type": "markdown",
   "metadata": {},
   "source": [
    "# Exam 2 (100 pts total)\n",
    "\n",
    "files needed = ('dogs_exam2.csv', 'Zoning_Districts.zip', 'cities.xlsx', 'states.xlsx') You can find them in `exam2_data.zip` on the course webpage.\n",
    "\n",
    "You have 75 minutes to complete this exam.\n",
    "\n",
    "Answer all the questions below in this notebook. You should insert as many cells into the notebook as you need. When you are finished, upload your finished notebook to Canvas. \n",
    "\n",
    "* You may use your notes and the Internet, but you cannot work with others.  \n",
    "* Import any packages you need to complete this exam.\n",
    "* Do not modify the data files directly. All data manipulation should happen in your code.\n",
    "\n",
    "Remember, jupyter notebooks and python have lots of built in help facilities."
   ]
  },
  {
   "cell_type": "markdown",
   "metadata": {},
   "source": [
    "## Question 0 (5 pts): Last, First\n",
    " \n",
    "Replace 'Last, First' above with your actual name. Enter it as: last name, first name."
   ]
  },
  {
   "cell_type": "markdown",
   "metadata": {},
   "source": [
    "## Question 1 (5 points): Debugging. \n",
    "\n",
    "1. The code in the cell below does not run. There are two errors in the code. Correct the errors so that the code runs and the output reads:\n",
    "```\n",
    "The value associated with index 16 is 6.\n",
    "```"
   ]
  },
  {
   "cell_type": "code",
   "execution_count": null,
   "metadata": {},
   "outputs": [],
   "source": [
    "df_dict = {'a':[1,2,3,4,5,6,7,8], 'b':[11,12,13,14,15,16,17,18]}\n",
    "df = DataFrame(df_dict)\n",
    "df.set_index('b')\n",
    "print('The value associated with index 16 is {0:d}.'.format(df.loc[16,'a']))"
   ]
  },
  {
   "cell_type": "markdown",
   "metadata": {},
   "source": [
    "## Question 2 (20 points): apply-split-combine\n",
    "\n",
    "The file 'dogs_exam2.csv' contains daily observations about the number of walks, snacks, and the walk-snack ratio for three dogs: Buster, Jax, and Su. \n",
    "\n",
    "1. Use a groupby to compute, for each dog, the **average** and **standard deviation** of their snacks and walks. (You are averaging over all of the daily observations for each dog.) Print out a single DataFrame that holds all of the means and standard deviations."
   ]
  },
  {
   "cell_type": "markdown",
   "metadata": {},
   "source": [
    "2.  Print out Buster's average walks as \n",
    "```\n",
    "Buster takes x.x average walks per day.\n",
    "```\n",
    "\n",
    "Notice that the number of walks should be formatted with one digit to the right of the decimal point."
   ]
  },
  {
   "cell_type": "markdown",
   "metadata": {},
   "source": [
    "## Question 3 (15 points): Datetime/transforms\n",
    "\n",
    "1. Create a DataFrame named `date_df` from the `date_dict` below. \n",
    "\n",
    "```python\n",
    "date_dict = {'day':[1,2,3,4,5,6,7,8,9], 'month':[4, 4, 4, 5, 5, 5, 5, 5, 5], 'year':[2022]*9}\n",
    "```\n",
    "   \n",
    "2. Create a new column in your DataFrame named `date` that contains the date implied by the day, month, and year data. This new column should be of type datetime.\n",
    "3. Print out the types of all the columns in `date_df`."
   ]
  },
  {
   "cell_type": "markdown",
   "metadata": {},
   "source": [
    "## Question 4 (20 points): Maps\n",
    "\n",
    "The zip file `Zoning_Districts.zip` contains the shapefiles to map the zoning district boundaries for the city of Madison. \n",
    "\n",
    "1. Create a plot of all of the zoning districts in Madison. The outlines of the districts should be black. Your figure should be 20 inches wide by 12 inches high.\n",
    "2. The column `ZONING_COD` holds the zoning codes. The codes 'SR-C1', 'SR-C2', and 'SR-C3' indicate suburban residential districts. Color these districts 'skyblue'. All other districts on your map should be white. \n",
    "3. Add the title 'Madison zoning districts (suburban residential are blue)'. Make any other formatting choices you think are needed. "
   ]
  },
  {
   "cell_type": "markdown",
   "metadata": {},
   "source": [
    "## Question 5 (15 points): Merge\n",
    "\n",
    "The file 'cities.xlsx' contains city names and their associated states. The file 'states.xlsx' contains information about states. \n",
    "\n",
    "1. Merge the two data sets to create one DataFrame. Keep all of the observations in 'cities' in the new DataFrame, but discard any observations from 'states' that do not have an observation in 'cities.'\n",
    "2. Print out the DataFrame."
   ]
  },
  {
   "cell_type": "markdown",
   "metadata": {},
   "source": [
    "## Question 6 (10 points): \n",
    "\n",
    "You are given a file that contains data on U.S. manufacturing firms. There are 100,000 firms (each with a unique firm id) that are surveyed each month from 1980&ndash;2022. Each time a firm is surveyed, it reports its employment, sales, exports, and purchases of machinery. The column names are `firm_id`, `date`, `employ`, `sales`, `exports`, and `purch_mach`.\n",
    "\n",
    "How would you organize this data in a DataFrame?\n",
    "\n",
    "1. Which data are the index? \n",
    "2. Which data are in the columns? \n",
    "3. Explain your answers to 1 and 2."
   ]
  },
  {
   "cell_type": "markdown",
   "metadata": {},
   "source": [
    "## Question 7 (10 points): APIs/Datetime\n",
    "\n",
    "1. Use an api call to retrieve the 'Crude Oil Prices: Brent&ndash;Europe' (DCOILBRENTEU) from FRED. Get the data from January 1, 2020 to the most recent observation. \n",
    "\n",
    "2. Write code that extracts the data of the second-to-last (the pentultimate) observation date. Print out the date as \n",
    "```\n",
    "'The pentultimate observation is from Month dd, yyyy.'\n",
    "```\n",
    "Where `Month` is the complete name of the month (e.g., January, February), `dd` is the two-digit day, and `yyyy` is the four-digit year. \n",
    "\n",
    "*Do not hard code the date anywhere in your code.*"
   ]
  }
 ],
 "metadata": {
  "celltoolbar": "Edit Metadata",
  "hide_input": false,
  "kernelspec": {
   "display_name": "geo3",
   "language": "python",
   "name": "geo3"
  },
  "language_info": {
   "codemirror_mode": {
    "name": "ipython",
    "version": 3
   },
   "file_extension": ".py",
   "mimetype": "text/x-python",
   "name": "python",
   "nbconvert_exporter": "python",
   "pygments_lexer": "ipython3",
   "version": "3.9.9"
  }
 },
 "nbformat": 4,
 "nbformat_minor": 4
}
